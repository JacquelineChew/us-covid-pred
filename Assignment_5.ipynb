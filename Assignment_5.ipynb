{
  "nbformat": 4,
  "nbformat_minor": 0,
  "metadata": {
    "colab": {
      "provenance": [],
      "include_colab_link": true
    },
    "kernelspec": {
      "name": "python3",
      "display_name": "Python 3"
    },
    "accelerator": "GPU"
  },
  "cells": [
    {
      "cell_type": "markdown",
      "metadata": {
        "id": "view-in-github",
        "colab_type": "text"
      },
      "source": [
        "<a href=\"https://colab.research.google.com/github/JacquelineChew/us-covid-pred/blob/main/Assignment_5.ipynb\" target=\"_parent\"><img src=\"https://colab.research.google.com/assets/colab-badge.svg\" alt=\"Open In Colab\"/></a>"
      ]
    },
    {
      "cell_type": "code",
      "metadata": {
        "id": "2IlwhV0z2nMr"
      },
      "source": [
        "%matplotlib inline"
      ],
      "execution_count": null,
      "outputs": []
    },
    {
      "cell_type": "markdown",
      "metadata": {
        "id": "Chprzdhe2nMw"
      },
      "source": [
        "# Assignment 5\n",
        "\n",
        "**DUE: Sunday March 14, 2021 11:59pm**\n",
        "\n",
        "Turn in the assignment via Canvas.\n",
        "\n",
        "To write legible answers you will need to be familiar with both [Markdown](https://github.com/adam-p/markdown-here/wiki/Markdown-Cheatsheet) and [Latex](https://www.latex-tutorial.com/tutorials/amsmath/)\n",
        "\n",
        "Before you turn this problem in, make sure everything runs as expected. First, restart the kernel (in the menubar, select Runtime→→Restart runtime) and then run all cells (in the menubar, select Runtime→→Run All).\n",
        "\n",
        "Make sure you fill in any place that says \"YOUR CODE HERE\" or \"YOUR ANSWER HERE\", as well as your name below:"
      ]
    },
    {
      "cell_type": "code",
      "metadata": {
        "id": "8jeWubXE2nMx"
      },
      "source": [
        "NAME = \"Jacqueline\"\n",
        "STUDENT_ID = \"Chew\""
      ],
      "execution_count": null,
      "outputs": []
    },
    {
      "cell_type": "markdown",
      "metadata": {
        "id": "E-DjjESEyXnL"
      },
      "source": [
        "In this assignment you will use Recurrrent Neural Network architecture (and possible variations of it) to solve **one** of the following problems. For the problem you choose, you will have to follow the steps mentioned below.\n",
        "\n",
        "\n",
        "*   United States Corona Virus Cases Forecast\n",
        "> In this dataset you will use the data available at https://drive.google.com/file/d/1Y7PDnv5-HfmchT9FmFsGKsM3U6JMEABF to predict the number of positive COVID-19 cases in the USA. Note that the number of COVID-19 cases are cumulative.\n",
        "\n",
        "*   Reuters Topic Classification\n",
        "> We will use the [Reuters newswire](https://keras.io/api/datasets/reuters/) classification dataset, which has text paired with 46 topics as labels. You can see what these labels represent [here](https://martin-thoma.com/nlp-reuters/). You will analyze the text and classify the text into one of the 46 classes. Classes are the defined based on the following list (in the same order):\n",
        ">```\n",
        "['cocoa','grain','veg-oil','earn','acq','wheat','copper',\n",
        "'housing','money-supply','coffee','sugar','trade','reserves',\n",
        "'ship','cotton','carcass','crude','nat-gas','cpi','money-fx',\n",
        "'interest','gnp','meal-feed','alum','oilseed','gold','tin',\n",
        "'strategic-metal','livestock','retail','ipi','iron-steel',\n",
        "'rubber','heat','jobs','lei','bop','zinc','orange',\n",
        "'pet-chem','dlr','gas','silver','wpi','hog','lead']\n",
        "```\n",
        "\n",
        "\n",
        "\n"
      ]
    },
    {
      "cell_type": "code",
      "metadata": {
        "id": "Bv1G7ixQvN8E"
      },
      "source": [
        "import numpy as np\n",
        "import pandas as pd\n",
        "import tensorflow as tf\n",
        "from tensorflow.keras.datasets import reuters # Import Reuters dataset\n",
        "import matplotlib.pyplot as plt\n",
        "import string\n",
        "import textwrap"
      ],
      "execution_count": null,
      "outputs": []
    },
    {
      "cell_type": "markdown",
      "metadata": {
        "id": "UtiV5tgLLY5j"
      },
      "source": [
        "## Part 1: Reading the data (20 points)\n",
        "---\n",
        "\n",
        "In this part you need to:\n",
        "\n",
        "1) read in the data (for your task)\n",
        "> * For COVID-19 data you might find this lihnk useful: https://towardsdatascience.com/3-ways-to-load-csv-files-into-colab-7c14fcbdcb92. You need to use the public link to the dataset provided earlier so we can run your code on our end.\n",
        "> * For Reuters data, you can simply load it from Keras: https://www.tensorflow.org/api_docs/python/tf/keras/datasets/reuters/load_data\n",
        "\n",
        "2) prepare and clean the data\n",
        "> * For COVID-19 dataset this means removing attributes you don't need (ex. Lat/Long features),  removing entries that are not relevant to your prediction task (ex. number of cases of other countries), and any other pre-processing you might find useful.\n",
        "Depending on your implementation you might find scaling also useful (Recall [MinMaxScaler](https://scikit-learn.org/stable/modules/generated/sklearn.preprocessing.MinMaxScaler.html) from sklearn. **Hint**: You will need to call .transpose inorder to comply with required inputshape (n,1)). You might also find it useful to trim the data in the begining as reporting was not accurate on early days (>50,000 cases might be a reasonable cut-off).\n",
        "> * For Reuters news classification data, you may follow the RNN handout from the class exercise and prepare encoding and decoding functions and any other pre-processing you might find useful.\n",
        "\n",
        "3) Sample of the dataset\n",
        "> * For COVID-19 dataset print the head of your dataframe so we can see what data points and what features you will use for training.\n",
        "> * For Reuters news classification data, print an example of a news along with its class label."
      ]
    },
    {
      "cell_type": "code",
      "metadata": {
        "id": "PnzsyAmwvImD",
        "colab": {
          "base_uri": "https://localhost:8080/"
        },
        "outputId": "52f159e8-4958-46d3-8c84-8ef37c88c19b"
      },
      "source": [
        "from tensorflow.keras.preprocessing.text import Tokenizer\n",
        "from tensorflow.keras.preprocessing.sequence import pad_sequences\n",
        "\n",
        "# Load data\n",
        "\n",
        "### YOUR CODE HERE ###\n",
        "# Omit newswires longer than this many words\n",
        "max_sequence_len = 200\n",
        "# We do train_test_split later on so test_split is set as zero\n",
        "(X, y), (_, _) = reuters.load_data(maxlen=max_sequence_len, test_split=0)\n",
        "\n",
        "# Clean and pre-process the data\n",
        "\n",
        "### YOUR CODE HERE ###\n",
        "# Retrieves a dict mapping words to their index in the Reuters dataset.\n",
        "word_dict = reuters.get_word_index()\n",
        "\n",
        "for i in range(50):\n",
        "  for key, value in word_dict.items():\n",
        "    if value == i:\n",
        "        print('(', key, ',', value, ')', sep = '', end = ',')\n",
        "\n",
        "print(len(word_dict))\n",
        "\n",
        "word_dict = {k:(v+3) for k,v in word_dict.items()}\n",
        "word_dict[\"<PAD>\"] = 0\n",
        "word_dict[\"<START>\"] = 1\n",
        "word_dict[\"<UNK>\"] = 2\n",
        "word_dict[\"<UNUSED>\"] = 3\n",
        "\n",
        "vocab_size = len(word_dict.keys())\n",
        "print('Number of words in vocabulary: ', vocab_size)\n",
        "\n",
        "for i in range(50):\n",
        "  for key, value in word_dict.items():\n",
        "    if value == i:\n",
        "        print('(', key, ',', value, ')', sep = '', end = ',')\n",
        "\n",
        "# Needed to decode training data into readable text\n",
        "inverse_word_dict = {value:key for key,value in word_dict.items()}\n",
        "\n",
        "# Print sample data\n",
        "\n",
        "### YOUR CODE HERE ###\n",
        "print(\"\\n\")\n",
        "for i in range(len(X)):\n",
        "  X[i] = np.asarray(X[i])\n",
        "# Print out the last newswire in the dataset\n",
        "print(X[-1])\n",
        "# Make sure that all newswires have the same size array\n",
        "X = pad_sequences(X, maxlen=max_sequence_len)\n",
        "print(X[-1])"
      ],
      "execution_count": null,
      "outputs": [
        {
          "output_type": "stream",
          "text": [
            "/usr/local/lib/python3.7/dist-packages/tensorflow/python/keras/datasets/reuters.py:148: VisibleDeprecationWarning: Creating an ndarray from ragged nested sequences (which is a list-or-tuple of lists-or-tuples-or ndarrays with different lengths or shapes) is deprecated. If you meant to do this, you must specify 'dtype=object' when creating the ndarray\n",
            "  x_train, y_train = np.array(xs[:idx]), np.array(labels[:idx])\n"
          ],
          "name": "stderr"
        },
        {
          "output_type": "stream",
          "text": [
            "(the,1),(of,2),(to,3),(in,4),(said,5),(and,6),(a,7),(mln,8),(3,9),(for,10),(vs,11),(dlrs,12),(it,13),(reuter,14),(000,15),(1,16),(pct,17),(on,18),(from,19),(is,20),(that,21),(its,22),(cts,23),(by,24),(at,25),(year,26),(be,27),(with,28),(2,29),(will,30),(was,31),(billion,32),(he,33),(u,34),(s,35),(net,36),(has,37),(would,38),(an,39),(as,40),(5,41),(not,42),(loss,43),(4,44),(1986,45),(company,46),(which,47),(but,48),(this,49),30979\n",
            "Number of words in vocabulary:  30983\n",
            "(<PAD>,0),(<START>,1),(<UNK>,2),(<UNUSED>,3),(the,4),(of,5),(to,6),(in,7),(said,8),(and,9),(a,10),(mln,11),(3,12),(for,13),(vs,14),(dlrs,15),(it,16),(reuter,17),(000,18),(1,19),(pct,20),(on,21),(from,22),(is,23),(that,24),(its,25),(cts,26),(by,27),(at,28),(year,29),(be,30),(with,31),(2,32),(will,33),(was,34),(billion,35),(he,36),(u,37),(s,38),(net,39),(has,40),(would,41),(an,42),(as,43),(5,44),(not,45),(loss,46),(4,47),(1986,48),(company,49),\n",
            "\n",
            "[    1  5586 15148    71     8    23   166   344    10    78    13    68\n",
            "    80   467   606     6   261     5   146    93   124     4   166    75\n",
            "  3603 14296  5907   265  8692  1251 14144   297  1127   195     9   621\n",
            "   575  1080  5907     7   378   104   421   648    20     5     4    49\n",
            " 14144     8  1708    28     4   303   163   524    10  1220     6   455\n",
            "     4   326   685     6 15081   422    71   142    73   863    62    75\n",
            "  3603     6     4   326   166 14144    34  1652  3603     6     4   166\n",
            "     4    49     8    17    12]\n",
            "[    0     0     0     0     0     0     0     0     0     0     0     0\n",
            "     0     0     0     0     0     0     0     0     0     0     0     0\n",
            "     0     0     0     0     0     0     0     0     0     0     0     0\n",
            "     0     0     0     0     0     0     0     0     0     0     0     0\n",
            "     0     0     0     0     0     0     0     0     0     0     0     0\n",
            "     0     0     0     0     0     0     0     0     0     0     0     0\n",
            "     0     0     0     0     0     0     0     0     0     0     0     0\n",
            "     0     0     0     0     0     0     0     0     0     0     0     0\n",
            "     0     0     0     0     0     0     0     0     0     0     0     0\n",
            "     0     0     0     1  5586 15148    71     8    23   166   344    10\n",
            "    78    13    68    80   467   606     6   261     5   146    93   124\n",
            "     4   166    75  3603 14296  5907   265  8692  1251 14144   297  1127\n",
            "   195     9   621   575  1080  5907     7   378   104   421   648    20\n",
            "     5     4    49 14144     8  1708    28     4   303   163   524    10\n",
            "  1220     6   455     4   326   685     6 15081   422    71   142    73\n",
            "   863    62    75  3603     6     4   326   166 14144    34  1652  3603\n",
            "     6     4   166     4    49     8    17    12]\n"
          ],
          "name": "stdout"
        }
      ]
    },
    {
      "cell_type": "code",
      "metadata": {
        "id": "C3TG8lGmr3ZW"
      },
      "source": [
        "# Functions are modeled after Lecture 18 class exercise\n",
        "def encode_news(newswire, word_dict, maxlen):\n",
        "  encoded_news = []\n",
        "  for raw_word in newswire.split(' '):\n",
        "    word = raw_word.strip().strip(string.punctuation).lower()\n",
        "    if word is '' or word is '\\n':\n",
        "      continue\n",
        "    try:\n",
        "      encoded_news.append(word_dict[word])\n",
        "    except KeyError as e:\n",
        "      # raise KeyError(f'{e} not in word dictionary, newswire not encoded.')\n",
        "      continue\n",
        "  return pad_sequences(np.array(encoded_news).reshape(1,-1), maxlen=maxlen)\n",
        "\n",
        "def decode_news(encoded_news, inverse_word_dict):\n",
        "  sentence = []\n",
        "  for encoded_word in encoded_news:\n",
        "    if encoded_word == 0:\n",
        "      continue\n",
        "    sentence.append(inverse_word_dict[encoded_word])\n",
        "  w = textwrap.TextWrapper(width=120,break_long_words=False,replace_whitespace=False)\n",
        "  return '\\n'.join(w.wrap(' '.join(sentence)))"
      ],
      "execution_count": null,
      "outputs": []
    },
    {
      "cell_type": "code",
      "metadata": {
        "colab": {
          "base_uri": "https://localhost:8080/"
        },
        "id": "lzVN-CBqsAVL",
        "outputId": "1d58aa78-8b27-4151-c485-a3784223891f"
      },
      "source": [
        "# Print an example of a news along with its class label\n",
        "print(decode_news(X[-1], inverse_word_dict), end='\\n\\n')\n",
        "\n",
        "print('Class: ', y[-1])"
      ],
      "execution_count": null,
      "outputs": [
        {
          "output_type": "stream",
          "text": [
            "<START> inland vacuum inc said is board proposed a two for one stock split payable to shareholders of record april 30\n",
            "the board also elected phillip frost chairman succeeding john durkin who remains president and chief executive officer\n",
            "frost in early february bought 49 pct of the company durkin said stockholders at the annual meeting approved a measure\n",
            "to change the company's name to ivaco industries inc five new directors were also elected to the company's board durkin\n",
            "was re elected to the board the company said reuter 3\n",
            "\n",
            "Class:  3\n"
          ],
          "name": "stdout"
        }
      ]
    },
    {
      "cell_type": "markdown",
      "metadata": {
        "id": "v7AZBFBPSLtH"
      },
      "source": [
        "4) An additional step for COVID-19 data\n",
        ">You need to modify your dataset so you determine how many days back the model will look to generate a new prediction. Begin with time_step=2. In the training phase you can choose different time-steps (and modify the architecture accordingly)."
      ]
    },
    {
      "cell_type": "code",
      "metadata": {
        "id": "P4fI2NvCJXUb"
      },
      "source": [
        "# You may use the following function to process your dataset further.\n",
        "# Generate a dataset where X[n] contains the readings for the 'time_step' previous days\n",
        "# and y contains the reading for today.\n",
        "# def create_dataset(dataset, time_steps=1):\n",
        "# \tdataX, dataY = [], []\n",
        "# \tfor i in range(len(dataset)-time_steps-1):\n",
        "# \t\ta = dataset[i:(i+time_steps), 0]\n",
        "# \t\tdataX.append(a)\n",
        "# \t\tdataY.append(dataset[i + time_steps, 0])\n",
        "# \treturn np.array(dataX), np.array(dataY)"
      ],
      "execution_count": null,
      "outputs": []
    },
    {
      "cell_type": "code",
      "metadata": {
        "id": "zteRBuvvOW4m"
      },
      "source": [
        "# Choose the number of time steps that the model \"looks back\"\n",
        "# time_steps = 2\n",
        "# dataX, dataY = create_dataset(X, time_steps=time_steps)\n",
        "# dataX[:5], dataY[:5]\n",
        "\n",
        "# Produce your dataset based on the number of days the model could look back\n",
        "\n",
        "### YOUR CODE HERE ###\n",
        "\n",
        "\n",
        "# Print head of the data\n",
        "\n",
        "### YOUR CODE HERE ###"
      ],
      "execution_count": null,
      "outputs": []
    },
    {
      "cell_type": "markdown",
      "metadata": {
        "id": "YyIDtW-U7RJn"
      },
      "source": [
        "## Part 2: Data Partitioning (5 points)\n",
        "---\n",
        "Split data into train and test sets. Please use 80\\% for training and 20\\% for testing. Note:\n",
        "> * for COVID-19 dataset you need to split the data in time (the begining 80\\% of the days from start date will be the training data and the remaining 20\\% will be test data).\n",
        "> * for Reuters dataset, we want to have the same distribution of labels in the training and test set, so you can simply use stratified train-test split of Keras. See here: https://scikit-learn.org/stable/modules/generated/sklearn.model_selection.train_test_split.html"
      ]
    },
    {
      "cell_type": "code",
      "metadata": {
        "id": "dM3fOjNG0ybv"
      },
      "source": [
        "### YOUR CODE HERE ###\n",
        "from sklearn.model_selection import train_test_split\n",
        "\n",
        "# Stratify ensures that proportion of values in sample will be the same as\n",
        "# the proportion of values provided to the parameter (ex. y)\n",
        "X_train, X_test, y_train, y_test = train_test_split(X, y, test_size=0.2, stratify=y)"
      ],
      "execution_count": null,
      "outputs": []
    },
    {
      "cell_type": "markdown",
      "metadata": {
        "id": "pjoKH7hGXY6r"
      },
      "source": [
        "For COVID-19 dataset, you need to reshape the partitions for the model to be able to process them."
      ]
    },
    {
      "cell_type": "code",
      "metadata": {
        "id": "WD7omR6XXjgK"
      },
      "source": [
        "# Reshape input to be [samples, time steps, features]. For example:\n",
        "# X_train = np.reshape(X_train, (X_train.shape[0], 1, X_train.shape[1]))\n",
        "# X_test = np.reshape(X_test, (X_test.shape[0], 1, X_test.shape[1]))"
      ],
      "execution_count": null,
      "outputs": []
    },
    {
      "cell_type": "markdown",
      "metadata": {
        "id": "Lp8HvntUTzwW"
      },
      "source": [
        "## Part 3: Simple RNN Model (25 points)\n",
        "---\n",
        "\n",
        "In this part you will create a model using an RNN layer (LSTM or GRU, unidirectional or bidirectional) and train it on your training data. You will also plot training and validation loss and your metric (accuracies (for Reuters data) and mean squared error (for COVID-19 data))."
      ]
    },
    {
      "cell_type": "markdown",
      "metadata": {
        "id": "-L2aeGG9KS7w"
      },
      "source": [
        "Compile your model and display the summary:"
      ]
    },
    {
      "cell_type": "code",
      "metadata": {
        "id": "09k-v7zVzUXj",
        "colab": {
          "base_uri": "https://localhost:8080/"
        },
        "outputId": "314e7b2e-b6fb-4ad7-c103-cb29bbba045d"
      },
      "source": [
        "# Build your model\n",
        "\n",
        "### YOUR CODE HERE ###\n",
        "from tensorflow.keras.layers import Embedding, Dense, Dropout, Input, LSTM\n",
        "from tensorflow.keras.models import Model\n",
        "\n",
        "input_layer = Input(shape=(max_sequence_len))\n",
        "x = Embedding(vocab_size, 256, mask_zero=True)(input_layer)\n",
        "\n",
        "x = LSTM(256)(x)\n",
        "x = Dense(64, activation='relu')(x)\n",
        "x = Dense(32, activation='relu')(x)\n",
        "x = Dense(46, activation='softmax')(x)\n",
        "reuters_model = Model(input_layer, x)\n",
        "\n",
        "\n",
        "loss = tf.keras.losses.SparseCategoricalCrossentropy()\n",
        "\n",
        "opt = tf.keras.optimizers.Adam(2e-4)\n",
        "\n",
        "metrics = ['accuracy']\n",
        "\n",
        "reuters_model.compile(loss=loss,\n",
        "              optimizer=opt,\n",
        "              metrics=metrics)\n",
        "\n",
        "reuters_model.summary()"
      ],
      "execution_count": null,
      "outputs": [
        {
          "output_type": "stream",
          "text": [
            "Model: \"model\"\n",
            "_________________________________________________________________\n",
            "Layer (type)                 Output Shape              Param #   \n",
            "=================================================================\n",
            "input_1 (InputLayer)         [(None, 200)]             0         \n",
            "_________________________________________________________________\n",
            "embedding (Embedding)        (None, 200, 256)          7931648   \n",
            "_________________________________________________________________\n",
            "lstm (LSTM)                  (None, 256)               525312    \n",
            "_________________________________________________________________\n",
            "dense (Dense)                (None, 64)                16448     \n",
            "_________________________________________________________________\n",
            "dense_1 (Dense)              (None, 32)                2080      \n",
            "_________________________________________________________________\n",
            "dense_2 (Dense)              (None, 46)                1518      \n",
            "=================================================================\n",
            "Total params: 8,477,006\n",
            "Trainable params: 8,477,006\n",
            "Non-trainable params: 0\n",
            "_________________________________________________________________\n"
          ],
          "name": "stdout"
        }
      ]
    },
    {
      "cell_type": "code",
      "metadata": {
        "id": "mthwaqCrzvM3",
        "colab": {
          "base_uri": "https://localhost:8080/"
        },
        "outputId": "372320b6-d3e7-44d5-dc2a-6dc608060594"
      },
      "source": [
        "batchsize = 1024\n",
        "epochs =  100\n",
        "\n",
        "with tf.device('/device:GPU:0'):\n",
        "  # Fit model\n",
        "  history = reuters_model.fit(X_train, y_train, batch_size=batchsize, epochs=epochs, validation_split=0.2, shuffle=True)"
      ],
      "execution_count": null,
      "outputs": [
        {
          "output_type": "stream",
          "text": [
            "Epoch 1/100\n",
            "6/6 [==============================] - 9s 915ms/step - loss: 3.8285 - accuracy: 0.0217 - val_loss: 3.8236 - val_accuracy: 0.1278\n",
            "Epoch 2/100\n",
            "6/6 [==============================] - 4s 637ms/step - loss: 3.8214 - accuracy: 0.1636 - val_loss: 3.8133 - val_accuracy: 0.1709\n",
            "Epoch 3/100\n",
            "6/6 [==============================] - 4s 645ms/step - loss: 3.8094 - accuracy: 0.2033 - val_loss: 3.7950 - val_accuracy: 0.2429\n",
            "Epoch 4/100\n",
            "6/6 [==============================] - 4s 652ms/step - loss: 3.7870 - accuracy: 0.2751 - val_loss: 3.7527 - val_accuracy: 0.3347\n",
            "Epoch 5/100\n",
            "6/6 [==============================] - 4s 673ms/step - loss: 3.7219 - accuracy: 0.3832 - val_loss: 3.5647 - val_accuracy: 0.4089\n",
            "Epoch 6/100\n",
            "6/6 [==============================] - 4s 639ms/step - loss: 3.5292 - accuracy: 0.4114 - val_loss: 3.3777 - val_accuracy: 0.2366\n",
            "Epoch 7/100\n",
            "6/6 [==============================] - 4s 637ms/step - loss: 3.3176 - accuracy: 0.3359 - val_loss: 3.0797 - val_accuracy: 0.4004\n",
            "Epoch 8/100\n",
            "6/6 [==============================] - 4s 644ms/step - loss: 3.0217 - accuracy: 0.4048 - val_loss: 2.8472 - val_accuracy: 0.5162\n",
            "Epoch 9/100\n",
            "6/6 [==============================] - 4s 644ms/step - loss: 2.7998 - accuracy: 0.5278 - val_loss: 2.7390 - val_accuracy: 0.5939\n",
            "Epoch 10/100\n",
            "6/6 [==============================] - 4s 655ms/step - loss: 2.6672 - accuracy: 0.5729 - val_loss: 2.6133 - val_accuracy: 0.6102\n",
            "Epoch 11/100\n",
            "6/6 [==============================] - 4s 646ms/step - loss: 2.5275 - accuracy: 0.5850 - val_loss: 2.5076 - val_accuracy: 0.6081\n",
            "Epoch 12/100\n",
            "6/6 [==============================] - 4s 634ms/step - loss: 2.4822 - accuracy: 0.5789 - val_loss: 2.4474 - val_accuracy: 0.6059\n",
            "Epoch 13/100\n",
            "6/6 [==============================] - 4s 645ms/step - loss: 2.4616 - accuracy: 0.5822 - val_loss: 2.3543 - val_accuracy: 0.6123\n",
            "Epoch 14/100\n",
            "6/6 [==============================] - 4s 633ms/step - loss: 2.3735 - accuracy: 0.5864 - val_loss: 2.3484 - val_accuracy: 0.6095\n",
            "Epoch 15/100\n",
            "6/6 [==============================] - 4s 646ms/step - loss: 2.3496 - accuracy: 0.5887 - val_loss: 2.3596 - val_accuracy: 0.6059\n",
            "Epoch 16/100\n",
            "6/6 [==============================] - 4s 653ms/step - loss: 2.3103 - accuracy: 0.5891 - val_loss: 2.1926 - val_accuracy: 0.6088\n",
            "Epoch 17/100\n",
            "6/6 [==============================] - 4s 656ms/step - loss: 2.1989 - accuracy: 0.5793 - val_loss: 2.1263 - val_accuracy: 0.5975\n",
            "Epoch 18/100\n",
            "6/6 [==============================] - 4s 639ms/step - loss: 2.1841 - accuracy: 0.5700 - val_loss: 2.0938 - val_accuracy: 0.5890\n",
            "Epoch 19/100\n",
            "6/6 [==============================] - 4s 634ms/step - loss: 2.1490 - accuracy: 0.5634 - val_loss: 2.0380 - val_accuracy: 0.5904\n",
            "Epoch 20/100\n",
            "6/6 [==============================] - 4s 625ms/step - loss: 2.0952 - accuracy: 0.5699 - val_loss: 1.9907 - val_accuracy: 0.5946\n",
            "Epoch 21/100\n",
            "6/6 [==============================] - 4s 643ms/step - loss: 2.0499 - accuracy: 0.5702 - val_loss: 1.9472 - val_accuracy: 0.5989\n",
            "Epoch 22/100\n",
            "6/6 [==============================] - 4s 648ms/step - loss: 2.0338 - accuracy: 0.5710 - val_loss: 1.9301 - val_accuracy: 0.5989\n",
            "Epoch 23/100\n",
            "6/6 [==============================] - 4s 635ms/step - loss: 2.0322 - accuracy: 0.5684 - val_loss: 1.9182 - val_accuracy: 0.5982\n",
            "Epoch 24/100\n",
            "6/6 [==============================] - 4s 643ms/step - loss: 1.9753 - accuracy: 0.5772 - val_loss: 1.9030 - val_accuracy: 0.5975\n",
            "Epoch 25/100\n",
            "6/6 [==============================] - 4s 633ms/step - loss: 1.9824 - accuracy: 0.5751 - val_loss: 1.8945 - val_accuracy: 0.5968\n",
            "Epoch 26/100\n",
            "6/6 [==============================] - 4s 630ms/step - loss: 1.9333 - accuracy: 0.5789 - val_loss: 1.8809 - val_accuracy: 0.5968\n",
            "Epoch 27/100\n",
            "6/6 [==============================] - 4s 627ms/step - loss: 1.9406 - accuracy: 0.5761 - val_loss: 1.8684 - val_accuracy: 0.5968\n",
            "Epoch 28/100\n",
            "6/6 [==============================] - 4s 636ms/step - loss: 1.9318 - accuracy: 0.5767 - val_loss: 1.8571 - val_accuracy: 0.5968\n",
            "Epoch 29/100\n",
            "6/6 [==============================] - 4s 636ms/step - loss: 1.9084 - accuracy: 0.5752 - val_loss: 1.8459 - val_accuracy: 0.5968\n",
            "Epoch 30/100\n",
            "6/6 [==============================] - 4s 629ms/step - loss: 1.8946 - accuracy: 0.5781 - val_loss: 1.8333 - val_accuracy: 0.5975\n",
            "Epoch 31/100\n",
            "6/6 [==============================] - 4s 639ms/step - loss: 1.8871 - accuracy: 0.5793 - val_loss: 1.8288 - val_accuracy: 0.5960\n",
            "Epoch 32/100\n",
            "6/6 [==============================] - 4s 636ms/step - loss: 1.8836 - accuracy: 0.5741 - val_loss: 1.8215 - val_accuracy: 0.5968\n",
            "Epoch 33/100\n",
            "6/6 [==============================] - 4s 642ms/step - loss: 1.8918 - accuracy: 0.5700 - val_loss: 1.8136 - val_accuracy: 0.5968\n",
            "Epoch 34/100\n",
            "6/6 [==============================] - 4s 648ms/step - loss: 1.8733 - accuracy: 0.5757 - val_loss: 1.8061 - val_accuracy: 0.5960\n",
            "Epoch 35/100\n",
            "6/6 [==============================] - 4s 628ms/step - loss: 1.8566 - accuracy: 0.5757 - val_loss: 1.8020 - val_accuracy: 0.5960\n",
            "Epoch 36/100\n",
            "6/6 [==============================] - 4s 625ms/step - loss: 1.8522 - accuracy: 0.5790 - val_loss: 1.7955 - val_accuracy: 0.5968\n",
            "Epoch 37/100\n",
            "6/6 [==============================] - 4s 637ms/step - loss: 1.8890 - accuracy: 0.5686 - val_loss: 1.7942 - val_accuracy: 0.5953\n",
            "Epoch 38/100\n",
            "6/6 [==============================] - 4s 649ms/step - loss: 1.8479 - accuracy: 0.5772 - val_loss: 1.7902 - val_accuracy: 0.5960\n",
            "Epoch 39/100\n",
            "6/6 [==============================] - 4s 660ms/step - loss: 1.8575 - accuracy: 0.5714 - val_loss: 1.7867 - val_accuracy: 0.5960\n",
            "Epoch 40/100\n",
            "6/6 [==============================] - 4s 632ms/step - loss: 1.8661 - accuracy: 0.5700 - val_loss: 1.7730 - val_accuracy: 0.5968\n",
            "Epoch 41/100\n",
            "6/6 [==============================] - 4s 643ms/step - loss: 1.8322 - accuracy: 0.5782 - val_loss: 1.7835 - val_accuracy: 0.5897\n",
            "Epoch 42/100\n",
            "6/6 [==============================] - 4s 631ms/step - loss: 1.7989 - accuracy: 0.5808 - val_loss: 1.7744 - val_accuracy: 0.5904\n",
            "Epoch 43/100\n",
            "6/6 [==============================] - 4s 640ms/step - loss: 1.8097 - accuracy: 0.5740 - val_loss: 1.7630 - val_accuracy: 0.5939\n",
            "Epoch 44/100\n",
            "6/6 [==============================] - 4s 642ms/step - loss: 1.8500 - accuracy: 0.5658 - val_loss: 1.7577 - val_accuracy: 0.5939\n",
            "Epoch 45/100\n",
            "6/6 [==============================] - 4s 646ms/step - loss: 1.8108 - accuracy: 0.5733 - val_loss: 1.7554 - val_accuracy: 0.5939\n",
            "Epoch 46/100\n",
            "6/6 [==============================] - 4s 641ms/step - loss: 1.7963 - accuracy: 0.5723 - val_loss: 1.7552 - val_accuracy: 0.5939\n",
            "Epoch 47/100\n",
            "6/6 [==============================] - 4s 639ms/step - loss: 1.8095 - accuracy: 0.5716 - val_loss: 1.7489 - val_accuracy: 0.5939\n",
            "Epoch 48/100\n",
            "6/6 [==============================] - 4s 628ms/step - loss: 1.8198 - accuracy: 0.5650 - val_loss: 1.7426 - val_accuracy: 0.5932\n",
            "Epoch 49/100\n",
            "6/6 [==============================] - 4s 643ms/step - loss: 1.7586 - accuracy: 0.5791 - val_loss: 1.8130 - val_accuracy: 0.6010\n",
            "Epoch 50/100\n",
            "6/6 [==============================] - 4s 640ms/step - loss: 1.8063 - accuracy: 0.5705 - val_loss: 1.7497 - val_accuracy: 0.5918\n",
            "Epoch 51/100\n",
            "6/6 [==============================] - 4s 650ms/step - loss: 1.7972 - accuracy: 0.5680 - val_loss: 1.7476 - val_accuracy: 0.5883\n",
            "Epoch 52/100\n",
            "6/6 [==============================] - 4s 639ms/step - loss: 1.8095 - accuracy: 0.5655 - val_loss: 1.7469 - val_accuracy: 0.5869\n",
            "Epoch 53/100\n",
            "6/6 [==============================] - 4s 646ms/step - loss: 1.8235 - accuracy: 0.5558 - val_loss: 1.7406 - val_accuracy: 0.5869\n",
            "Epoch 54/100\n",
            "6/6 [==============================] - 4s 644ms/step - loss: 1.7907 - accuracy: 0.5622 - val_loss: 1.7210 - val_accuracy: 0.5876\n",
            "Epoch 55/100\n",
            "6/6 [==============================] - 4s 642ms/step - loss: 1.7752 - accuracy: 0.5605 - val_loss: 1.6620 - val_accuracy: 0.5890\n",
            "Epoch 56/100\n",
            "6/6 [==============================] - 4s 641ms/step - loss: 1.6980 - accuracy: 0.5713 - val_loss: 1.6587 - val_accuracy: 0.5890\n",
            "Epoch 57/100\n",
            "6/6 [==============================] - 4s 658ms/step - loss: 1.6654 - accuracy: 0.5657 - val_loss: 1.6319 - val_accuracy: 0.5883\n",
            "Epoch 58/100\n",
            "6/6 [==============================] - 4s 645ms/step - loss: 1.6360 - accuracy: 0.5670 - val_loss: 1.5729 - val_accuracy: 0.5883\n",
            "Epoch 59/100\n",
            "6/6 [==============================] - 4s 646ms/step - loss: 1.5968 - accuracy: 0.5615 - val_loss: 1.5744 - val_accuracy: 0.5897\n",
            "Epoch 60/100\n",
            "6/6 [==============================] - 4s 644ms/step - loss: 1.5522 - accuracy: 0.5730 - val_loss: 1.5933 - val_accuracy: 0.5932\n",
            "Epoch 61/100\n",
            "6/6 [==============================] - 4s 647ms/step - loss: 1.5871 - accuracy: 0.5742 - val_loss: 1.7779 - val_accuracy: 0.5890\n",
            "Epoch 62/100\n",
            "6/6 [==============================] - 4s 639ms/step - loss: 1.6695 - accuracy: 0.5795 - val_loss: 1.5750 - val_accuracy: 0.6109\n",
            "Epoch 63/100\n",
            "6/6 [==============================] - 4s 628ms/step - loss: 1.5638 - accuracy: 0.5892 - val_loss: 1.6529 - val_accuracy: 0.5742\n",
            "Epoch 64/100\n",
            "6/6 [==============================] - 4s 631ms/step - loss: 1.5908 - accuracy: 0.5940 - val_loss: 1.6604 - val_accuracy: 0.5946\n",
            "Epoch 65/100\n",
            "6/6 [==============================] - 4s 633ms/step - loss: 1.5782 - accuracy: 0.5809 - val_loss: 1.5961 - val_accuracy: 0.5989\n",
            "Epoch 66/100\n",
            "6/6 [==============================] - 4s 647ms/step - loss: 1.5395 - accuracy: 0.6080 - val_loss: 1.5485 - val_accuracy: 0.6116\n",
            "Epoch 67/100\n",
            "6/6 [==============================] - 4s 645ms/step - loss: 1.4925 - accuracy: 0.5989 - val_loss: 1.5622 - val_accuracy: 0.6073\n",
            "Epoch 68/100\n",
            "6/6 [==============================] - 4s 639ms/step - loss: 1.5145 - accuracy: 0.5938 - val_loss: 1.5470 - val_accuracy: 0.6130\n",
            "Epoch 69/100\n",
            "6/6 [==============================] - 4s 637ms/step - loss: 1.5170 - accuracy: 0.5888 - val_loss: 1.5237 - val_accuracy: 0.6116\n",
            "Epoch 70/100\n",
            "6/6 [==============================] - 4s 633ms/step - loss: 1.5056 - accuracy: 0.6095 - val_loss: 1.5259 - val_accuracy: 0.6179\n",
            "Epoch 71/100\n",
            "6/6 [==============================] - 4s 633ms/step - loss: 1.4750 - accuracy: 0.6034 - val_loss: 1.5395 - val_accuracy: 0.6179\n",
            "Epoch 72/100\n",
            "6/6 [==============================] - 4s 639ms/step - loss: 1.4644 - accuracy: 0.6018 - val_loss: 1.5194 - val_accuracy: 0.6186\n",
            "Epoch 73/100\n",
            "6/6 [==============================] - 4s 631ms/step - loss: 1.4266 - accuracy: 0.6192 - val_loss: 1.5268 - val_accuracy: 0.6003\n",
            "Epoch 74/100\n",
            "6/6 [==============================] - 4s 622ms/step - loss: 1.4243 - accuracy: 0.6157 - val_loss: 1.5185 - val_accuracy: 0.6158\n",
            "Epoch 75/100\n",
            "6/6 [==============================] - 4s 676ms/step - loss: 1.4141 - accuracy: 0.6182 - val_loss: 1.5266 - val_accuracy: 0.6165\n",
            "Epoch 76/100\n",
            "6/6 [==============================] - 4s 627ms/step - loss: 1.4262 - accuracy: 0.6112 - val_loss: 1.5602 - val_accuracy: 0.6158\n",
            "Epoch 77/100\n",
            "6/6 [==============================] - 4s 645ms/step - loss: 1.4117 - accuracy: 0.6100 - val_loss: 1.5166 - val_accuracy: 0.6081\n",
            "Epoch 78/100\n",
            "6/6 [==============================] - 4s 641ms/step - loss: 1.3820 - accuracy: 0.6189 - val_loss: 1.5248 - val_accuracy: 0.6088\n",
            "Epoch 79/100\n",
            "6/6 [==============================] - 4s 640ms/step - loss: 1.3730 - accuracy: 0.6116 - val_loss: 1.5551 - val_accuracy: 0.6144\n",
            "Epoch 80/100\n",
            "6/6 [==============================] - 4s 632ms/step - loss: 1.3623 - accuracy: 0.6155 - val_loss: 1.5333 - val_accuracy: 0.6123\n",
            "Epoch 81/100\n",
            "6/6 [==============================] - 4s 635ms/step - loss: 1.3505 - accuracy: 0.6189 - val_loss: 1.5304 - val_accuracy: 0.6102\n",
            "Epoch 82/100\n",
            "6/6 [==============================] - 4s 650ms/step - loss: 1.3359 - accuracy: 0.6203 - val_loss: 1.5376 - val_accuracy: 0.6123\n",
            "Epoch 83/100\n",
            "6/6 [==============================] - 4s 633ms/step - loss: 1.3208 - accuracy: 0.6203 - val_loss: 1.5340 - val_accuracy: 0.6116\n",
            "Epoch 84/100\n",
            "6/6 [==============================] - 4s 632ms/step - loss: 1.2865 - accuracy: 0.6261 - val_loss: 1.5395 - val_accuracy: 0.6073\n",
            "Epoch 85/100\n",
            "6/6 [==============================] - 4s 639ms/step - loss: 1.2705 - accuracy: 0.6294 - val_loss: 1.5435 - val_accuracy: 0.6038\n",
            "Epoch 86/100\n",
            "6/6 [==============================] - 4s 640ms/step - loss: 1.2870 - accuracy: 0.6239 - val_loss: 1.5510 - val_accuracy: 0.6073\n",
            "Epoch 87/100\n",
            "6/6 [==============================] - 4s 643ms/step - loss: 1.2622 - accuracy: 0.6257 - val_loss: 1.5602 - val_accuracy: 0.6109\n",
            "Epoch 88/100\n",
            "6/6 [==============================] - 4s 642ms/step - loss: 1.2675 - accuracy: 0.6214 - val_loss: 1.5832 - val_accuracy: 0.6003\n",
            "Epoch 89/100\n",
            "6/6 [==============================] - 4s 627ms/step - loss: 1.3120 - accuracy: 0.6081 - val_loss: 1.6611 - val_accuracy: 0.5636\n",
            "Epoch 90/100\n",
            "6/6 [==============================] - 4s 623ms/step - loss: 1.3325 - accuracy: 0.6043 - val_loss: 1.6216 - val_accuracy: 0.5847\n",
            "Epoch 91/100\n",
            "6/6 [==============================] - 4s 638ms/step - loss: 1.2884 - accuracy: 0.6184 - val_loss: 1.7320 - val_accuracy: 0.5452\n",
            "Epoch 92/100\n",
            "6/6 [==============================] - 4s 619ms/step - loss: 1.3215 - accuracy: 0.6113 - val_loss: 1.6509 - val_accuracy: 0.5685\n",
            "Epoch 93/100\n",
            "6/6 [==============================] - 4s 640ms/step - loss: 1.2948 - accuracy: 0.6104 - val_loss: 1.6122 - val_accuracy: 0.6130\n",
            "Epoch 94/100\n",
            "6/6 [==============================] - 4s 649ms/step - loss: 1.2317 - accuracy: 0.6245 - val_loss: 1.6067 - val_accuracy: 0.6059\n",
            "Epoch 95/100\n",
            "6/6 [==============================] - 4s 632ms/step - loss: 1.2453 - accuracy: 0.6210 - val_loss: 1.6054 - val_accuracy: 0.5939\n",
            "Epoch 96/100\n",
            "6/6 [==============================] - 4s 631ms/step - loss: 1.2134 - accuracy: 0.6222 - val_loss: 1.6225 - val_accuracy: 0.5890\n",
            "Epoch 97/100\n",
            "6/6 [==============================] - 4s 642ms/step - loss: 1.2042 - accuracy: 0.6242 - val_loss: 1.6384 - val_accuracy: 0.6017\n",
            "Epoch 98/100\n",
            "6/6 [==============================] - 4s 625ms/step - loss: 1.2059 - accuracy: 0.6236 - val_loss: 1.6588 - val_accuracy: 0.6010\n",
            "Epoch 99/100\n",
            "6/6 [==============================] - 4s 631ms/step - loss: 1.1697 - accuracy: 0.6337 - val_loss: 1.6564 - val_accuracy: 0.5996\n",
            "Epoch 100/100\n",
            "6/6 [==============================] - 4s 621ms/step - loss: 1.1715 - accuracy: 0.6274 - val_loss: 1.6658 - val_accuracy: 0.6010\n"
          ],
          "name": "stdout"
        }
      ]
    },
    {
      "cell_type": "code",
      "metadata": {
        "id": "cBzaRs9hrQsh",
        "colab": {
          "base_uri": "https://localhost:8080/",
          "height": 295
        },
        "outputId": "edc5f3d6-bd72-485c-cc45-42c4f9d1b215"
      },
      "source": [
        "# Plot the Model loss\n",
        "\n",
        "### YOUR CODE HERE ###\n",
        "plt.plot(history.history['accuracy'])\n",
        "plt.plot(history.history['val_accuracy'])\n",
        "plt.title('Model Accuracy')\n",
        "plt.ylabel('Accuracy')\n",
        "plt.xlabel('Epochs')\n",
        "plt.legend(['train', 'val'])\n",
        "plt.show()"
      ],
      "execution_count": null,
      "outputs": [
        {
          "output_type": "display_data",
          "data": {
            "image/png": "[encoded data removed]",
            "text/plain": [
              "<Figure size 432x288 with 1 Axes>"
            ]
          },
          "metadata": {
            "tags": [],
            "needs_background": "light"
          }
        }
      ]
    },
    {
      "cell_type": "markdown",
      "metadata": {
        "id": "-ONEJCKBa384"
      },
      "source": [
        "## Part 4: More Advanced RNN Model (30 points)\n",
        "---\n",
        "In this part you will create an RNN model with the number of layers and architerure you prefer. Train it on your training data. You will also plot training and validation loss and your metric (accuracies (for Reuters data) and mean squared error (for COVID-19 data)). In this part, you can try different models and use different hyper-parameters and report only the best one."
      ]
    },
    {
      "cell_type": "markdown",
      "metadata": {
        "id": "ToO-cZbKa386"
      },
      "source": [
        "Compile your model and display the summary:"
      ]
    },
    {
      "cell_type": "code",
      "metadata": {
        "id": "FOo5_Rp6a386",
        "colab": {
          "base_uri": "https://localhost:8080/"
        },
        "outputId": "5a88371e-487a-4346-8056-34006049c6ff"
      },
      "source": [
        "# Build your model\n",
        "\n",
        "### YOUR CODE HERE ###\n",
        "import tensorflow as tf\n",
        "input_layer = Input(shape=(max_sequence_len))\n",
        "x = Embedding(vocab_size, 256, mask_zero=True)(input_layer)\n",
        "\n",
        "x = LSTM(256)(x)\n",
        "x = Dense(64, activation='relu')(x)\n",
        "# x = Dropout(0.4)(x)\n",
        "# x = Dense(32, activation='relu')(x)\n",
        "# x = Dropout(0.8)(x)\n",
        "# x = Dense(128, activation='relu')(x)\n",
        "# x = Dropout(0.5)(x)\n",
        "x = Dense(46, activation='softmax')(x)  # 46 classes\n",
        "model = Model(input_layer, x)\n",
        "\n",
        "loss = tf.keras.losses.SparseCategoricalCrossentropy()\n",
        "\n",
        "opt = tf.keras.optimizers.Adam(0.0003)\n",
        "\n",
        "metrics = ['accuracy']\n",
        "\n",
        "model.compile(loss=loss,\n",
        "              optimizer=opt,\n",
        "              metrics=metrics)\n",
        "\n",
        "model.summary()"
      ],
      "execution_count": null,
      "outputs": [
        {
          "output_type": "stream",
          "text": [
            "Model: \"model_3\"\n",
            "_________________________________________________________________\n",
            "Layer (type)                 Output Shape              Param #   \n",
            "=================================================================\n",
            "input_4 (InputLayer)         [(None, 200)]             0         \n",
            "_________________________________________________________________\n",
            "embedding_3 (Embedding)      (None, 200, 256)          7931648   \n",
            "_________________________________________________________________\n",
            "lstm_3 (LSTM)                (None, 256)               525312    \n",
            "_________________________________________________________________\n",
            "dense_7 (Dense)              (None, 64)                16448     \n",
            "_________________________________________________________________\n",
            "dense_8 (Dense)              (None, 46)                2990      \n",
            "=================================================================\n",
            "Total params: 8,476,398\n",
            "Trainable params: 8,476,398\n",
            "Non-trainable params: 0\n",
            "_________________________________________________________________\n"
          ],
          "name": "stdout"
        }
      ]
    },
    {
      "cell_type": "code",
      "metadata": {
        "id": "80rNRrDva387",
        "colab": {
          "base_uri": "https://localhost:8080/"
        },
        "outputId": "a8f574c0-949f-4f2e-8bd5-dd78b576eb81"
      },
      "source": [
        "from keras.callbacks import EarlyStopping\n",
        "batchsize = 1024\n",
        "epochs =  100\n",
        "\n",
        "es = EarlyStopping(monitor='val_loss', mode='min', verbose=1, patience=50)\n",
        "\n",
        "with tf.device('/device:GPU:0'):\n",
        "  # Fit model\n",
        "  history = model.fit(X_train,\n",
        "                      y_train,\n",
        "                      batch_size=batchsize,\n",
        "                      epochs=epochs,\n",
        "                      validation_split=0.2,\n",
        "                      shuffle=True,\n",
        "                      callbacks=[es])"
      ],
      "execution_count": null,
      "outputs": [
        {
          "output_type": "stream",
          "text": [
            "Epoch 1/100\n",
            "6/6 [==============================] - 9s 863ms/step - loss: 3.8188 - accuracy: 0.1445 - val_loss: 3.7818 - val_accuracy: 0.2733\n",
            "Epoch 2/100\n",
            "6/6 [==============================] - 4s 656ms/step - loss: 3.7664 - accuracy: 0.2572 - val_loss: 3.6791 - val_accuracy: 0.2874\n",
            "Epoch 3/100\n",
            "6/6 [==============================] - 4s 662ms/step - loss: 3.5899 - accuracy: 0.2422 - val_loss: 2.8554 - val_accuracy: 0.2472\n",
            "Epoch 4/100\n",
            "6/6 [==============================] - 4s 656ms/step - loss: 2.8203 - accuracy: 0.2599 - val_loss: 2.5457 - val_accuracy: 0.4103\n",
            "Epoch 5/100\n",
            "6/6 [==============================] - 4s 670ms/step - loss: 2.6020 - accuracy: 0.4180 - val_loss: 2.4134 - val_accuracy: 0.4103\n",
            "Epoch 6/100\n",
            "6/6 [==============================] - 4s 652ms/step - loss: 2.4397 - accuracy: 0.4204 - val_loss: 2.3468 - val_accuracy: 0.4103\n",
            "Epoch 7/100\n",
            "6/6 [==============================] - 4s 672ms/step - loss: 2.4058 - accuracy: 0.4085 - val_loss: 2.3059 - val_accuracy: 0.4103\n",
            "Epoch 8/100\n",
            "6/6 [==============================] - 4s 647ms/step - loss: 2.3586 - accuracy: 0.4124 - val_loss: 2.2794 - val_accuracy: 0.4103\n",
            "Epoch 9/100\n",
            "6/6 [==============================] - 4s 655ms/step - loss: 2.3256 - accuracy: 0.4124 - val_loss: 2.2556 - val_accuracy: 0.4103\n",
            "Epoch 10/100\n",
            "6/6 [==============================] - 4s 651ms/step - loss: 2.3323 - accuracy: 0.4070 - val_loss: 2.2377 - val_accuracy: 0.4103\n",
            "Epoch 11/100\n",
            "6/6 [==============================] - 4s 660ms/step - loss: 2.2949 - accuracy: 0.4103 - val_loss: 2.2181 - val_accuracy: 0.4103\n",
            "Epoch 12/100\n",
            "6/6 [==============================] - 4s 655ms/step - loss: 2.2631 - accuracy: 0.4132 - val_loss: 2.1904 - val_accuracy: 0.4103\n",
            "Epoch 13/100\n",
            "6/6 [==============================] - 4s 657ms/step - loss: 2.2413 - accuracy: 0.4112 - val_loss: 2.1454 - val_accuracy: 0.4103\n",
            "Epoch 14/100\n",
            "6/6 [==============================] - 4s 650ms/step - loss: 2.1965 - accuracy: 0.4179 - val_loss: 2.0945 - val_accuracy: 0.4103\n",
            "Epoch 15/100\n",
            "6/6 [==============================] - 4s 656ms/step - loss: 2.1406 - accuracy: 0.4130 - val_loss: 2.0622 - val_accuracy: 0.4103\n",
            "Epoch 16/100\n",
            "6/6 [==============================] - 4s 653ms/step - loss: 2.0825 - accuracy: 0.4719 - val_loss: 1.9233 - val_accuracy: 0.4258\n",
            "Epoch 17/100\n",
            "6/6 [==============================] - 4s 660ms/step - loss: 1.9603 - accuracy: 0.4939 - val_loss: 1.8559 - val_accuracy: 0.5918\n",
            "Epoch 18/100\n",
            "6/6 [==============================] - 4s 652ms/step - loss: 1.9175 - accuracy: 0.5688 - val_loss: 1.8852 - val_accuracy: 0.5494\n",
            "Epoch 19/100\n",
            "6/6 [==============================] - 4s 651ms/step - loss: 2.0004 - accuracy: 0.4986 - val_loss: 1.8277 - val_accuracy: 0.4477\n",
            "Epoch 20/100\n",
            "6/6 [==============================] - 4s 652ms/step - loss: 1.8609 - accuracy: 0.5329 - val_loss: 1.7414 - val_accuracy: 0.6081\n",
            "Epoch 21/100\n",
            "6/6 [==============================] - 4s 651ms/step - loss: 1.8214 - accuracy: 0.5810 - val_loss: 1.7443 - val_accuracy: 0.5148\n",
            "Epoch 22/100\n",
            "6/6 [==============================] - 4s 661ms/step - loss: 1.7886 - accuracy: 0.5460 - val_loss: 1.6885 - val_accuracy: 0.6229\n",
            "Epoch 23/100\n",
            "6/6 [==============================] - 4s 661ms/step - loss: 1.7500 - accuracy: 0.5997 - val_loss: 1.7283 - val_accuracy: 0.6179\n",
            "Epoch 24/100\n",
            "6/6 [==============================] - 4s 654ms/step - loss: 1.7604 - accuracy: 0.6024 - val_loss: 1.7359 - val_accuracy: 0.6003\n",
            "Epoch 25/100\n",
            "6/6 [==============================] - 4s 649ms/step - loss: 1.7855 - accuracy: 0.5871 - val_loss: 1.6823 - val_accuracy: 0.6208\n",
            "Epoch 26/100\n",
            "6/6 [==============================] - 4s 642ms/step - loss: 1.7174 - accuracy: 0.6137 - val_loss: 1.6709 - val_accuracy: 0.6222\n",
            "Epoch 27/100\n",
            "6/6 [==============================] - 4s 647ms/step - loss: 1.6981 - accuracy: 0.6137 - val_loss: 1.6494 - val_accuracy: 0.6236\n",
            "Epoch 28/100\n",
            "6/6 [==============================] - 4s 648ms/step - loss: 1.6942 - accuracy: 0.6124 - val_loss: 1.6529 - val_accuracy: 0.5911\n",
            "Epoch 29/100\n",
            "6/6 [==============================] - 4s 673ms/step - loss: 1.7002 - accuracy: 0.5985 - val_loss: 1.6552 - val_accuracy: 0.6250\n",
            "Epoch 30/100\n",
            "6/6 [==============================] - 4s 657ms/step - loss: 1.6990 - accuracy: 0.6056 - val_loss: 1.7497 - val_accuracy: 0.5982\n",
            "Epoch 31/100\n",
            "6/6 [==============================] - 4s 672ms/step - loss: 1.7731 - accuracy: 0.5880 - val_loss: 1.6516 - val_accuracy: 0.6236\n",
            "Epoch 32/100\n",
            "6/6 [==============================] - 4s 662ms/step - loss: 1.7079 - accuracy: 0.5951 - val_loss: 1.6355 - val_accuracy: 0.6201\n",
            "Epoch 33/100\n",
            "6/6 [==============================] - 4s 665ms/step - loss: 1.6799 - accuracy: 0.6074 - val_loss: 1.6252 - val_accuracy: 0.6250\n",
            "Epoch 34/100\n",
            "6/6 [==============================] - 4s 653ms/step - loss: 1.6553 - accuracy: 0.6182 - val_loss: 1.6193 - val_accuracy: 0.6186\n",
            "Epoch 35/100\n",
            "6/6 [==============================] - 4s 658ms/step - loss: 1.6531 - accuracy: 0.6147 - val_loss: 1.6418 - val_accuracy: 0.6130\n",
            "Epoch 36/100\n",
            "6/6 [==============================] - 4s 661ms/step - loss: 1.6464 - accuracy: 0.6086 - val_loss: 1.6184 - val_accuracy: 0.6158\n",
            "Epoch 37/100\n",
            "6/6 [==============================] - 4s 647ms/step - loss: 1.6176 - accuracy: 0.6072 - val_loss: 1.5740 - val_accuracy: 0.6116\n",
            "Epoch 38/100\n",
            "6/6 [==============================] - 4s 653ms/step - loss: 1.5430 - accuracy: 0.6228 - val_loss: 1.5514 - val_accuracy: 0.6208\n",
            "Epoch 39/100\n",
            "6/6 [==============================] - 4s 668ms/step - loss: 1.5689 - accuracy: 0.6116 - val_loss: 1.5411 - val_accuracy: 0.6194\n",
            "Epoch 40/100\n",
            "6/6 [==============================] - 4s 657ms/step - loss: 1.5029 - accuracy: 0.6206 - val_loss: 1.5836 - val_accuracy: 0.6370\n",
            "Epoch 41/100\n",
            "6/6 [==============================] - 4s 653ms/step - loss: 1.5234 - accuracy: 0.6213 - val_loss: 1.5025 - val_accuracy: 0.6222\n",
            "Epoch 42/100\n",
            "6/6 [==============================] - 4s 650ms/step - loss: 1.4517 - accuracy: 0.6474 - val_loss: 1.4815 - val_accuracy: 0.6462\n",
            "Epoch 43/100\n",
            "6/6 [==============================] - 4s 653ms/step - loss: 1.4469 - accuracy: 0.6583 - val_loss: 1.4676 - val_accuracy: 0.6596\n",
            "Epoch 44/100\n",
            "6/6 [==============================] - 4s 669ms/step - loss: 1.4120 - accuracy: 0.6614 - val_loss: 1.4574 - val_accuracy: 0.6518\n",
            "Epoch 45/100\n",
            "6/6 [==============================] - 4s 653ms/step - loss: 1.4336 - accuracy: 0.6481 - val_loss: 1.4438 - val_accuracy: 0.6427\n",
            "Epoch 46/100\n",
            "6/6 [==============================] - 4s 639ms/step - loss: 1.3801 - accuracy: 0.6557 - val_loss: 1.4344 - val_accuracy: 0.6624\n",
            "Epoch 47/100\n",
            "6/6 [==============================] - 4s 646ms/step - loss: 1.3894 - accuracy: 0.6612 - val_loss: 1.4474 - val_accuracy: 0.6631\n",
            "Epoch 48/100\n",
            "6/6 [==============================] - 4s 658ms/step - loss: 1.3513 - accuracy: 0.6681 - val_loss: 1.4522 - val_accuracy: 0.6568\n",
            "Epoch 49/100\n",
            "6/6 [==============================] - 4s 663ms/step - loss: 1.3304 - accuracy: 0.6726 - val_loss: 1.4389 - val_accuracy: 0.6653\n",
            "Epoch 50/100\n",
            "6/6 [==============================] - 4s 658ms/step - loss: 1.3379 - accuracy: 0.6780 - val_loss: 1.4806 - val_accuracy: 0.6547\n",
            "Epoch 51/100\n",
            "6/6 [==============================] - 4s 668ms/step - loss: 1.3661 - accuracy: 0.6703 - val_loss: 1.4750 - val_accuracy: 0.6356\n",
            "Epoch 52/100\n",
            "6/6 [==============================] - 4s 656ms/step - loss: 1.3560 - accuracy: 0.6714 - val_loss: 1.4719 - val_accuracy: 0.6638\n",
            "Epoch 53/100\n",
            "6/6 [==============================] - 4s 666ms/step - loss: 1.3698 - accuracy: 0.6701 - val_loss: 1.4997 - val_accuracy: 0.6469\n",
            "Epoch 54/100\n",
            "6/6 [==============================] - 4s 679ms/step - loss: 1.3221 - accuracy: 0.6738 - val_loss: 1.4448 - val_accuracy: 0.6582\n",
            "Epoch 55/100\n",
            "6/6 [==============================] - 4s 678ms/step - loss: 1.3669 - accuracy: 0.6572 - val_loss: 1.4944 - val_accuracy: 0.6532\n",
            "Epoch 56/100\n",
            "6/6 [==============================] - 4s 677ms/step - loss: 1.3658 - accuracy: 0.6588 - val_loss: 1.5302 - val_accuracy: 0.6483\n",
            "Epoch 57/100\n",
            "6/6 [==============================] - 4s 664ms/step - loss: 1.4296 - accuracy: 0.6362 - val_loss: 1.4938 - val_accuracy: 0.6278\n",
            "Epoch 58/100\n",
            "6/6 [==============================] - 4s 663ms/step - loss: 1.4131 - accuracy: 0.6259 - val_loss: 1.4941 - val_accuracy: 0.6370\n",
            "Epoch 59/100\n",
            "6/6 [==============================] - 4s 663ms/step - loss: 1.4155 - accuracy: 0.6385 - val_loss: 1.4607 - val_accuracy: 0.6448\n",
            "Epoch 60/100\n",
            "6/6 [==============================] - 4s 670ms/step - loss: 1.3707 - accuracy: 0.6376 - val_loss: 1.4686 - val_accuracy: 0.6483\n",
            "Epoch 61/100\n",
            "6/6 [==============================] - 4s 675ms/step - loss: 1.3533 - accuracy: 0.6437 - val_loss: 1.4439 - val_accuracy: 0.6681\n",
            "Epoch 62/100\n",
            "6/6 [==============================] - 4s 657ms/step - loss: 1.3363 - accuracy: 0.6611 - val_loss: 1.4720 - val_accuracy: 0.6667\n",
            "Epoch 63/100\n",
            "6/6 [==============================] - 4s 656ms/step - loss: 1.3293 - accuracy: 0.6678 - val_loss: 1.4843 - val_accuracy: 0.6476\n",
            "Epoch 64/100\n",
            "6/6 [==============================] - 4s 663ms/step - loss: 1.3109 - accuracy: 0.6790 - val_loss: 1.4588 - val_accuracy: 0.6617\n",
            "Epoch 65/100\n",
            "6/6 [==============================] - 4s 659ms/step - loss: 1.3231 - accuracy: 0.6659 - val_loss: 1.4268 - val_accuracy: 0.6723\n",
            "Epoch 66/100\n",
            "6/6 [==============================] - 4s 654ms/step - loss: 1.2899 - accuracy: 0.6765 - val_loss: 1.4187 - val_accuracy: 0.6730\n",
            "Epoch 67/100\n",
            "6/6 [==============================] - 4s 660ms/step - loss: 1.2981 - accuracy: 0.6766 - val_loss: 1.4713 - val_accuracy: 0.6653\n",
            "Epoch 68/100\n",
            "6/6 [==============================] - 4s 655ms/step - loss: 1.3763 - accuracy: 0.6575 - val_loss: 2.2890 - val_accuracy: 0.3665\n",
            "Epoch 69/100\n",
            "6/6 [==============================] - 4s 667ms/step - loss: 2.1884 - accuracy: 0.3240 - val_loss: 1.7709 - val_accuracy: 0.5862\n",
            "Epoch 70/100\n",
            "6/6 [==============================] - 4s 665ms/step - loss: 1.7289 - accuracy: 0.5099 - val_loss: 1.7890 - val_accuracy: 0.4400\n",
            "Epoch 71/100\n",
            "6/6 [==============================] - 4s 656ms/step - loss: 1.7072 - accuracy: 0.4643 - val_loss: 1.6508 - val_accuracy: 0.4605\n",
            "Epoch 72/100\n",
            "6/6 [==============================] - 4s 656ms/step - loss: 1.5951 - accuracy: 0.5265 - val_loss: 1.5622 - val_accuracy: 0.5989\n",
            "Epoch 73/100\n",
            "6/6 [==============================] - 4s 658ms/step - loss: 1.4991 - accuracy: 0.6374 - val_loss: 1.4991 - val_accuracy: 0.6497\n",
            "Epoch 74/100\n",
            "6/6 [==============================] - 4s 649ms/step - loss: 1.4355 - accuracy: 0.6524 - val_loss: 1.4904 - val_accuracy: 0.6518\n",
            "Epoch 75/100\n",
            "6/6 [==============================] - 4s 650ms/step - loss: 1.3875 - accuracy: 0.6783 - val_loss: 1.4529 - val_accuracy: 0.6603\n",
            "Epoch 76/100\n",
            "6/6 [==============================] - 4s 653ms/step - loss: 1.3766 - accuracy: 0.6705 - val_loss: 1.4368 - val_accuracy: 0.6638\n",
            "Epoch 77/100\n",
            "6/6 [==============================] - 4s 643ms/step - loss: 1.3974 - accuracy: 0.6510 - val_loss: 1.4515 - val_accuracy: 0.6561\n",
            "Epoch 78/100\n",
            "6/6 [==============================] - 4s 671ms/step - loss: 1.3898 - accuracy: 0.6513 - val_loss: 1.4584 - val_accuracy: 0.6547\n",
            "Epoch 79/100\n",
            "6/6 [==============================] - 4s 654ms/step - loss: 1.3635 - accuracy: 0.6516 - val_loss: 1.4670 - val_accuracy: 0.6645\n",
            "Epoch 80/100\n",
            "6/6 [==============================] - 4s 654ms/step - loss: 1.3477 - accuracy: 0.6683 - val_loss: 1.4300 - val_accuracy: 0.6631\n",
            "Epoch 81/100\n",
            "6/6 [==============================] - 4s 655ms/step - loss: 1.3160 - accuracy: 0.6731 - val_loss: 1.5107 - val_accuracy: 0.6504\n",
            "Epoch 82/100\n",
            "6/6 [==============================] - 4s 652ms/step - loss: 1.3119 - accuracy: 0.6834 - val_loss: 1.4228 - val_accuracy: 0.6638\n",
            "Epoch 83/100\n",
            "6/6 [==============================] - 4s 669ms/step - loss: 1.2961 - accuracy: 0.6804 - val_loss: 1.4358 - val_accuracy: 0.6653\n",
            "Epoch 84/100\n",
            "6/6 [==============================] - 4s 648ms/step - loss: 1.2936 - accuracy: 0.6830 - val_loss: 1.4588 - val_accuracy: 0.6667\n",
            "Epoch 85/100\n",
            "6/6 [==============================] - 4s 659ms/step - loss: 1.2961 - accuracy: 0.6867 - val_loss: 1.4550 - val_accuracy: 0.6363\n",
            "Epoch 86/100\n",
            "6/6 [==============================] - 4s 653ms/step - loss: 1.3183 - accuracy: 0.6618 - val_loss: 1.4355 - val_accuracy: 0.6744\n",
            "Epoch 87/100\n",
            "6/6 [==============================] - 4s 660ms/step - loss: 1.3061 - accuracy: 0.6816 - val_loss: 1.8997 - val_accuracy: 0.5911\n",
            "Epoch 88/100\n",
            "6/6 [==============================] - 4s 651ms/step - loss: 1.6713 - accuracy: 0.6416 - val_loss: 1.5108 - val_accuracy: 0.6349\n",
            "Epoch 89/100\n",
            "6/6 [==============================] - 4s 654ms/step - loss: 1.4516 - accuracy: 0.6407 - val_loss: 1.4712 - val_accuracy: 0.6589\n",
            "Epoch 90/100\n",
            "6/6 [==============================] - 4s 641ms/step - loss: 1.3881 - accuracy: 0.6670 - val_loss: 1.4560 - val_accuracy: 0.6518\n",
            "Epoch 91/100\n",
            "6/6 [==============================] - 4s 662ms/step - loss: 1.3185 - accuracy: 0.6676 - val_loss: 1.4363 - val_accuracy: 0.6455\n",
            "Epoch 92/100\n",
            "6/6 [==============================] - 4s 650ms/step - loss: 1.3047 - accuracy: 0.6679 - val_loss: 1.4555 - val_accuracy: 0.6638\n",
            "Epoch 93/100\n",
            "6/6 [==============================] - 4s 656ms/step - loss: 1.2743 - accuracy: 0.6744 - val_loss: 1.4731 - val_accuracy: 0.6582\n",
            "Epoch 94/100\n",
            "6/6 [==============================] - 4s 654ms/step - loss: 1.2772 - accuracy: 0.6750 - val_loss: 1.4470 - val_accuracy: 0.6638\n",
            "Epoch 95/100\n",
            "6/6 [==============================] - 4s 666ms/step - loss: 1.2537 - accuracy: 0.6883 - val_loss: 1.4551 - val_accuracy: 0.6554\n",
            "Epoch 96/100\n",
            "6/6 [==============================] - 4s 648ms/step - loss: 1.2585 - accuracy: 0.6812 - val_loss: 1.4619 - val_accuracy: 0.6561\n",
            "Epoch 97/100\n",
            "6/6 [==============================] - 4s 657ms/step - loss: 1.2671 - accuracy: 0.6886 - val_loss: 1.4346 - val_accuracy: 0.6589\n",
            "Epoch 98/100\n",
            "6/6 [==============================] - 4s 651ms/step - loss: 1.2552 - accuracy: 0.6873 - val_loss: 1.4438 - val_accuracy: 0.6504\n",
            "Epoch 99/100\n",
            "6/6 [==============================] - 4s 659ms/step - loss: 1.2287 - accuracy: 0.6842 - val_loss: 1.4424 - val_accuracy: 0.6610\n",
            "Epoch 100/100\n",
            "6/6 [==============================] - 4s 662ms/step - loss: 1.2397 - accuracy: 0.6862 - val_loss: 1.4404 - val_accuracy: 0.6596\n"
          ],
          "name": "stdout"
        }
      ]
    },
    {
      "cell_type": "code",
      "metadata": {
        "id": "8B_BKjzda387",
        "colab": {
          "base_uri": "https://localhost:8080/",
          "height": 295
        },
        "outputId": "a9710555-7a25-48e8-afd6-5efd99d34fa3"
      },
      "source": [
        "# Plot the Model loss\n",
        "\n",
        "### YOUR CODE HERE ###\n",
        "plt.plot(history.history['accuracy'])\n",
        "plt.plot(history.history['val_accuracy'])\n",
        "plt.title('Model Accuracy')\n",
        "plt.ylabel('Accuracy')\n",
        "plt.xlabel('Epochs')\n",
        "plt.legend(['train', 'val'])\n",
        "plt.show()"
      ],
      "execution_count": null,
      "outputs": [
        {
          "output_type": "display_data",
          "data": {
            "image/png": "[encoded data removed]",
            "text/plain": [
              "<Figure size 432x288 with 1 Axes>"
            ]
          },
          "metadata": {
            "tags": [],
            "needs_background": "light"
          }
        }
      ]
    },
    {
      "cell_type": "markdown",
      "metadata": {
        "id": "x6qIeYiBjZSf"
      },
      "source": [
        "Changes from Part 3:\n",
        "- Added Early Stopping with a patience limit (how long before the training stops) of 50\n",
        "- Removed second Dense layer\n",
        "- Changed learning rate to 0.0003"
      ]
    },
    {
      "cell_type": "markdown",
      "metadata": {
        "id": "dc7BEuccYvit"
      },
      "source": [
        "## Part 5: Looking at the Predictions (20 points)\n",
        "---\n",
        "\n",
        "Now, Using the final (best) model you trained, show your model's performance on the test set.\n",
        "> * For COVID-19 dataset, plot the model's prediction for the number of cases and the actual daily cumulative case numbers.\n",
        "> * For Reuters dataset, calculate and display the prediction accuracy for all of the 46 different classes."
      ]
    },
    {
      "cell_type": "code",
      "metadata": {
        "id": "PyCzORLJELij",
        "colab": {
          "base_uri": "https://localhost:8080/"
        },
        "outputId": "20abaad5-1121-4fd9-9f5b-2a9b3004302a"
      },
      "source": [
        "### YOUR CODE HERE ###\n",
        "from sklearn.metrics import confusion_matrix\n",
        "\n",
        "y_preds_raw = model.predict(X_test)\n",
        "y_preds_raw = tf.convert_to_tensor(y_preds_raw)\n",
        "softmax = tf.keras.activations.softmax(y_preds_raw)\n",
        "y_preds = tf.math.argmax(softmax, axis=1).numpy()\n",
        "\n",
        "# print(y_preds)\n",
        "\n",
        "# print(f'Test Accuracy {np.mean(y_preds==y_test)}')\n",
        "# class_accuracies = {k:y_preds[k] for k in range(46)}\n",
        "# for i in range(46):\n",
        "#   print(f'Class {i}: {class_accuracies[i]}')\n",
        "\n",
        "cf_mat = confusion_matrix(y_test, y_preds)\n",
        "# print(cf_mat)\n",
        "# Normalize diagonal entries (accuracies of each class)\n",
        "cf_mat = cf_mat.astype('float') / cf_mat.sum(axis=1)[:, np.newaxis]\n",
        "# print(cf_mat)\n",
        "cf_mat.diagonal()\n"
      ],
      "execution_count": null,
      "outputs": [
        {
          "output_type": "execute_result",
          "data": {
            "text/plain": [
              "array([0.        , 0.62337662, 0.        , 0.9247606 , 0.90049751,\n",
              "       0.        , 0.        , 0.        , 0.        , 0.        ,\n",
              "       0.        , 0.        , 0.        , 0.        , 0.        ,\n",
              "       0.        , 0.50793651, 0.        , 0.        , 0.12765957,\n",
              "       0.        , 0.        , 0.        , 0.        , 0.41666667,\n",
              "       0.        , 0.        , 0.        , 0.        , 0.        ,\n",
              "       0.        , 0.        , 0.        , 0.        , 0.        ,\n",
              "       0.        , 0.        , 0.        , 0.        , 0.        ,\n",
              "       0.        , 0.        , 0.        , 0.        , 0.        ,\n",
              "       0.        ])"
            ]
          },
          "metadata": {
            "tags": []
          },
          "execution_count": 30
        }
      ]
    }
  ]
}